{
 "cells": [
  {
   "cell_type": "markdown",
   "metadata": {},
   "source": [
    "# TPR\n",
    "\n",
    "Application for Software Engineer/ Developer \n",
    " * Name : Roopak Thiyyathuparambil Jayachandran\n",
    " * Data : June 3 2019\n",
    "\n",
    "## Trigger Reset Excercise\n",
    "\n",
    "Items:\n",
    "\n",
    " *  Book – collective of text and numbers.\n",
    " *  Shape – section of Book.\n",
    " \n",
    "### Task - 1 : Generate cache of random variables using texts and numbers. 1000 characters. This will be the make-up of item 1."
   ]
  },
  {
   "cell_type": "code",
   "execution_count": 39,
   "metadata": {},
   "outputs": [],
   "source": [
    "import random\n",
    "import string\n",
    "\n",
    "# A function which generates random variables of 1000 characters using texts and numbers.\n",
    "def generate():\n",
    "    n = 0\n",
    "    cache = \"\" # Initial string\n",
    "\n",
    "    letters = string.ascii_lowercase # to select random text\n",
    "    while(n < 999): # Iterating 1000 times\n",
    "        num_text_check = random.randint(0,1) # Randomly selecting from text or number. 0 for number and 1 for text\n",
    "        if num_text_check == 0:\n",
    "            cache = cache + str(random.randint(0,9))\n",
    "        else:\n",
    "            cache = cache + random.choice(letters)\n",
    "        n = n + 1\n",
    "    return cache\n"
   ]
  },
  {
   "cell_type": "code",
   "execution_count": 103,
   "metadata": {},
   "outputs": [
    {
     "name": "stdout",
     "output_type": "stream",
     "text": [
      "t66088bb2h219eq43t5zwsl2qjc0o04ue0y900froje1js5632kp29n2yd4spzftj3hws5d0xwm7yce07p8sqiw209a6446dc04y1n77541bsgkx5ye01o57mg2zuzzbb1v5jvqp35p70r05xkx9n14x0cx0n25p2q8c054r2bit9favw7m49df3273xa298y3128b3q77974yzj8ml26ad30hk6qc58a5311945jb7bd5e91p8f07ili203jb9k395j23n1h4nyiokc72k9ccb33i70q568k1bb85a930v0sw7edva01xb5ge6wypovztznjt15o1tu098xiae0y0u7pbve6nyhnd88rxg4pv9a7k7z45kjzwp00ov48r53h02027mz456ah6r6x75rv78ntrxzgf3yxe9n8vbr31bu12pq503y4bwv2f46z25wy8yxyb7be75zvd67fwdqy3npo4uan1x5yxmlxtx5y0exdb2d434r4r70244nj737xr55141v6w5966l04q49d7nt3zx1z1166t3ev2diac4w2f0b2vzw259m80wt42w60du83abd46qg80y963ka0rl9k8ecxca37jc9z7o6v39a8020zrwo8sbheq992f4g5384640r93hcp5oknl88m43ea686q3n1c3x4su90t1kvtx6tq030248q32ke1s71uh991x95970hve2t0301b15wn8p2026pdxq39vh645e0280kx7b39t3u67e27736i92r1x11f742sz252igv60rw2r5h2q8905rz9we3643kv1a3c3q316428k0q1n1lfl67831hn4n9pl2eql29q8g21hz9th85651828tw6h48ayil93avtyc88f86i9p2ar2jc911enl5t49bmxy5084p8481yc96x23cl2b5mal518huq5nt4u12d11l14g378ohhxwb5o266j47fi149pg8seybkzsrb72o5rt\n"
     ]
    }
   ],
   "source": [
    "cache  = generate()\n",
    "print(cache)"
   ]
  },
  {
   "cell_type": "markdown",
   "metadata": {},
   "source": [
    "### Task - 2 : Obtain a shape; shape is a 25-character phrase. Randomly pick 25-character phrase from the book. This will be the make-up of item 2."
   ]
  },
  {
   "cell_type": "markdown",
   "metadata": {},
   "source": [
    "### Approach 1 : 25 characters together from book randomly"
   ]
  },
  {
   "cell_type": "code",
   "execution_count": 55,
   "metadata": {},
   "outputs": [
    {
     "name": "stdout",
     "output_type": "stream",
     "text": [
      "685\n",
      "710\n"
     ]
    }
   ],
   "source": [
    "start_text = random.randint(0,974) # Above 974 25-character \n",
    "end_text = start_text + 25\n",
    "print(start_text)\n",
    "print(end_text)"
   ]
  },
  {
   "cell_type": "code",
   "execution_count": 104,
   "metadata": {},
   "outputs": [
    {
     "name": "stdout",
     "output_type": "stream",
     "text": [
      "x6tq030248q32ke1s71uh991x\n"
     ]
    }
   ],
   "source": [
    "# Taking a 25-character phrase from cache\n",
    "book = cache[start_text:end_text]\n",
    "print(book)"
   ]
  },
  {
   "cell_type": "markdown",
   "metadata": {},
   "source": [
    "### Approach 2 : 25 characters randomly from book"
   ]
  },
  {
   "cell_type": "code",
   "execution_count": 78,
   "metadata": {},
   "outputs": [],
   "source": [
    "def random_generate(book):\n",
    "    li = []\n",
    "    n = 0\n",
    "    shape_index = \"\"\n",
    "    while n < 25:\n",
    "        index = random.randint(0,999)\n",
    "        if index in li:\n",
    "            continue\n",
    "        else:\n",
    "            li.append(index)\n",
    "            n = n + 1\n",
    "    return li"
   ]
  },
  {
   "cell_type": "code",
   "execution_count": 82,
   "metadata": {},
   "outputs": [],
   "source": [
    "random_character_index = random_generate(cache)"
   ]
  },
  {
   "cell_type": "code",
   "execution_count": 87,
   "metadata": {},
   "outputs": [],
   "source": [
    "shape = \"\"\n",
    "for each in random_character_index:\n",
    "    shape = shape + cache[each]"
   ]
  },
  {
   "cell_type": "code",
   "execution_count": 90,
   "metadata": {},
   "outputs": [
    {
     "data": {
      "text/plain": [
       "'8j3l5m93lq8y6tdq04724wxq1'"
      ]
     },
     "execution_count": 90,
     "metadata": {},
     "output_type": "execute_result"
    }
   ],
   "source": [
    "shape"
   ]
  },
  {
   "cell_type": "markdown",
   "metadata": {},
   "source": [
    "### Task - 3 : Generate a query to result responses of true and false. Criteria as: match the shape to the book. If then, shape is located within book; query reads true, if not: it reads false."
   ]
  },
  {
   "cell_type": "markdown",
   "metadata": {},
   "source": [
    "Query from approach 1 where we will check if the 25 character phrase(shape which was extracted together) matches the cache(book)"
   ]
  },
  {
   "cell_type": "code",
   "execution_count": 105,
   "metadata": {},
   "outputs": [
    {
     "name": "stdout",
     "output_type": "stream",
     "text": [
      "True\n"
     ]
    }
   ],
   "source": [
    "if book in cache:\n",
    "    print(\"True\")\n",
    "else:\n",
    "    print(\"False\")"
   ]
  },
  {
   "cell_type": "markdown",
   "metadata": {},
   "source": [
    "Query from approach 2 where we will check if the randomly generated 25 character shape( extracted separately and randomly) matches the book"
   ]
  },
  {
   "cell_type": "code",
   "execution_count": 102,
   "metadata": {},
   "outputs": [
    {
     "name": "stdout",
     "output_type": "stream",
     "text": [
      "False\n"
     ]
    }
   ],
   "source": [
    "if shape in cache:\n",
    "    print(\"True\")\n",
    "else:\n",
    "    print(\"False\")"
   ]
  }
 ],
 "metadata": {
  "kernelspec": {
   "display_name": "Python 3",
   "language": "python",
   "name": "python3"
  },
  "language_info": {
   "codemirror_mode": {
    "name": "ipython",
    "version": 3
   },
   "file_extension": ".py",
   "mimetype": "text/x-python",
   "name": "python",
   "nbconvert_exporter": "python",
   "pygments_lexer": "ipython3",
   "version": "3.6.8"
  }
 },
 "nbformat": 4,
 "nbformat_minor": 2
}
